{
 "cells": [
  {
   "cell_type": "code",
   "execution_count": 3,
   "id": "801f1e34",
   "metadata": {},
   "outputs": [],
   "source": [
    "# import session\n",
    "import numpy as np\n",
    "from sklearn.tree import DecisionTreeClassifier, plot_tree\n",
    "from sklearn import model_selection\n",
    "from sklearn.metrics import confusion_matrix, precision_score, recall_score, f1_score\n",
    "from sklearn.datasets import load_wine"
   ]
  },
  {
   "cell_type": "code",
   "execution_count": 5,
   "id": "9643c43f",
   "metadata": {},
   "outputs": [
    {
     "name": "stdout",
     "output_type": "stream",
     "text": [
      "Formato de X: (178, 13)\n",
      "Formato de y: (178,)\n"
     ]
    }
   ],
   "source": [
    "# neste exemplo a base de dados wine é composto por 178 instãncias (N=178) , e \n",
    "# cada instância é representada por um vetor de 13 atributos (M=13)\n",
    "X,y = load_wine(return_X_y=True)\n",
    "print(f'Formato de X: {X.shape}\\nFormato de y: {y.shape}')"
   ]
  },
  {
   "cell_type": "code",
   "execution_count": 10,
   "id": "8d03d6e5",
   "metadata": {},
   "outputs": [],
   "source": [
    "# definindo a técnica a ser utilizada\n",
    "clf = DecisionTreeClassifier()\n",
    "\n",
    "# utilizando a validação cruzada com 10folds neste exemplo\n",
    "T=10 # numero de folders\n",
    "result=model_selection.cross_val_score(clf, X, y, cv=T)"
   ]
  },
  {
   "cell_type": "code",
   "execution_count": null,
   "id": "6523785c",
   "metadata": {},
   "outputs": [],
   "source": [
    "### !!INCOMPLETO!!\n",
    "print(f'Cross Validation Results %d folds: {T}')\n",
    "print(f'Mean Accuracy: {result.mean()}')\n",
    "print(f'Mean std: {result.std()}')\n",
    "y_pred = model_selection.cross_val_predict(clf, X,y,cv=T)"
   ]
  },
  {
   "cell_type": "code",
   "execution_count": 9,
   "id": "b45348b5",
   "metadata": {},
   "outputs": [],
   "source": [
    "from sklearn import tree\n",
    "clf = DecisionTreeClassifier()\n",
    "clf.fit(X,y)\n",
    "import matplotlib as plt\n",
    "import numpy as np\n",
    "\n",
    "data=load_wine()"
   ]
  },
  {
   "cell_type": "code",
   "execution_count": null,
   "id": "8608ff2f",
   "metadata": {},
   "outputs": [],
   "source": []
  },
  {
   "cell_type": "code",
   "execution_count": null,
   "id": "da5759a0",
   "metadata": {},
   "outputs": [],
   "source": []
  },
  {
   "cell_type": "code",
   "execution_count": null,
   "id": "83a4bf26",
   "metadata": {},
   "outputs": [],
   "source": []
  },
  {
   "cell_type": "code",
   "execution_count": null,
   "id": "8fce57a9",
   "metadata": {},
   "outputs": [],
   "source": []
  },
  {
   "cell_type": "code",
   "execution_count": null,
   "id": "0385d773",
   "metadata": {},
   "outputs": [],
   "source": []
  },
  {
   "cell_type": "code",
   "execution_count": null,
   "id": "589589e8",
   "metadata": {},
   "outputs": [],
   "source": []
  },
  {
   "cell_type": "code",
   "execution_count": null,
   "id": "1a8449bf",
   "metadata": {},
   "outputs": [],
   "source": []
  },
  {
   "cell_type": "code",
   "execution_count": null,
   "id": "03e08c2e",
   "metadata": {},
   "outputs": [],
   "source": []
  }
 ],
 "metadata": {
  "kernelspec": {
   "display_name": "Python 3 (ipykernel)",
   "language": "python",
   "name": "python3"
  },
  "language_info": {
   "codemirror_mode": {
    "name": "ipython",
    "version": 3
   },
   "file_extension": ".py",
   "mimetype": "text/x-python",
   "name": "python",
   "nbconvert_exporter": "python",
   "pygments_lexer": "ipython3",
   "version": "3.10.2"
  }
 },
 "nbformat": 4,
 "nbformat_minor": 5
}
