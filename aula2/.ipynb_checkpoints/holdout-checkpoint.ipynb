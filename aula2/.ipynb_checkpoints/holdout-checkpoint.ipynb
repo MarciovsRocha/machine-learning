{
 "cells": [
  {
   "cell_type": "markdown",
   "metadata": {
    "id": "XxjDrcRJYyA2"
   },
   "source": [
    "Neste exemplo treinamos e avaliamos um modelo preditivo usando **HOLDOUT**\n",
    "- técnica de aprendizagem usada: KNN (K-nearest Neighbors)\n",
    "- tarefa supervisionada: classificação de dígitos manuscritos\n",
    "- métricas de avaliação: taxa de acerto, precisão, revocação, f1 e matriz de confusão\n",
    "\n",
    "Importando os recursos necessários:\n",
    "- numpy: biblioteca numérica\n",
    "- sklearn: biblioteca de machine learning, em especial o KNN e as métricas de avaliação"
   ]
  },
  {
   "cell_type": "code",
   "execution_count": 1,
   "metadata": {
    "id": "SmS-tOd6u9fO"
   },
   "outputs": [],
   "source": [
    "# Importa bibliotecas necessárias \n",
    "import numpy as np\n",
    "from sklearn.neighbors import KNeighborsClassifier\n",
    "from sklearn.metrics import confusion_matrix, precision_score, recall_score, f1_score\n",
    "from sklearn.datasets import load_digits\n"
   ]
  },
  {
   "cell_type": "markdown",
   "metadata": {
    "id": "LuQLGeQNWpME"
   },
   "source": [
    "Carregando a base de dados do problema, representada aqui por X e y, onde:\n",
    "- X: array contendo N instâncias com M atributos (atributos de entrada do problema)\n",
    "- y: array contendo o rótulo (atributo alvo) de cada instância de X\n"
   ]
  },
  {
   "cell_type": "code",
   "execution_count": 2,
   "metadata": {
    "colab": {
     "base_uri": "https://localhost:8080/"
    },
    "id": "ypO-BKeSWlhU",
    "outputId": "e169e9b4-b521-434b-bf73-49d7ac8710eb"
   },
   "outputs": [
    {
     "name": "stdout",
     "output_type": "stream",
     "text": [
      "Formato de X:  (1797, 64)\n",
      "Formato de y:  (1797,)\n"
     ]
    }
   ],
   "source": [
    "# Neste exemplo a base de dados digits é composto por 1.797 instâncias (N=1.797), imagens de tamanho 8x8\n",
    "# e cada instância é representada por um vetor de 64 atributos (M=64), sendo que cada atributo pode ter um valor entre 0 e 16 (valor do pixel)\n",
    "\n",
    "X, y = load_digits(return_X_y=True)\n",
    "print(\"Formato de X: \", X.shape)\n",
    "print(\"Formato de y: \", y.shape)\n",
    "\n"
   ]
  },
  {
   "cell_type": "markdown",
   "metadata": {
    "id": "UtHXC-uRaros"
   },
   "source": [
    "Neste ponto definimos como faremos nosso HOLDOUT. Divide-se a base em uma porção para teste e o restante para treinamento. Neste exemplo, usamos 70/30, ou seja 70% para treinamento e 30% para teste.\n",
    "\n",
    "A função train_test_split faz isto de forma randômica e estratificada (respeitando a distribuição das classes), criando os seguintes arrays:\n",
    "\n",
    "- X_train e y_train: representam a base de treinamento\n",
    "- X_test e y_test: representam a base de teste\n",
    "\n",
    "Obs: \n",
    "- random_state é usado para garantir repetitibilidade dos experimentos\n",
    "- stratify é usada para que a divisão de treino e teste respeite a distribuição dos rótulos em y\n"
   ]
  },
  {
   "cell_type": "markdown",
   "metadata": {
    "id": "opt_bZeTcnD7"
   },
   "source": []
  },
  {
   "cell_type": "code",
   "execution_count": 3,
   "metadata": {
    "colab": {
     "base_uri": "https://localhost:8080/"
    },
    "id": "JDezcCgLZ5d4",
    "outputId": "4361f2cf-8032-4a97-8c37-2793b7338f93"
   },
   "outputs": [
    {
     "name": "stdout",
     "output_type": "stream",
     "text": [
      "Formato de X_train:  (1257, 64)\n",
      "Formato de y_train:  (1257,)\n",
      "Formato de X_test:  (540, 64)\n",
      "Formato de y_test:  (540,)\n"
     ]
    }
   ],
   "source": [
    "from sklearn.model_selection import train_test_split\n",
    "X_train, X_test, y_train, y_test = train_test_split(X, y, test_size=0.3, random_state=42, stratify=y)\n",
    "\n",
    "print(\"Formato de X_train: \", X_train.shape)\n",
    "print(\"Formato de y_train: \", y_train.shape)\n",
    "print(\"Formato de X_test: \", X_test.shape)\n",
    "print(\"Formato de y_test: \", y_test.shape)\n",
    "\n"
   ]
  },
  {
   "cell_type": "markdown",
   "metadata": {
    "id": "GoHd_-t7ddK8"
   },
   "source": [
    "Neste ponto definimos a técnica de Machine Learning a ser utilizada e treinamos o modelo. No exemplo, um classificador KNN onde K=3. Importante destacar que há no sklearn outros parâmetros do KNN que podemos explorar na busca por um modelo robusto. "
   ]
  },
  {
   "cell_type": "code",
   "execution_count": 4,
   "metadata": {
    "colab": {
     "base_uri": "https://localhost:8080/"
    },
    "id": "5sGXRIInYuUx",
    "outputId": "76104084-23de-47d0-90f1-ee51056c6a81"
   },
   "outputs": [
    {
     "ename": "ValueError",
     "evalue": "weights not recognized: should be 'uniform', 'distance', or a callable function",
     "output_type": "error",
     "traceback": [
      "\u001b[0;31m---------------------------------------------------------------------------\u001b[0m",
      "\u001b[0;31mValueError\u001b[0m                                Traceback (most recent call last)",
      "Input \u001b[0;32mIn [4]\u001b[0m, in \u001b[0;36m<module>\u001b[0;34m\u001b[0m\n\u001b[1;32m      2\u001b[0m clf \u001b[38;5;241m=\u001b[39m KNeighborsClassifier(n_neighbors\u001b[38;5;241m=\u001b[39m\u001b[38;5;241m5\u001b[39m,weights\u001b[38;5;241m=\u001b[39m\u001b[38;5;241m10\u001b[39m)\n\u001b[1;32m      4\u001b[0m \u001b[38;5;66;03m# Treinando o modelo\u001b[39;00m\n\u001b[0;32m----> 5\u001b[0m \u001b[43mclf\u001b[49m\u001b[38;5;241;43m.\u001b[39;49m\u001b[43mfit\u001b[49m\u001b[43m(\u001b[49m\u001b[43mX_train\u001b[49m\u001b[43m,\u001b[49m\u001b[43m \u001b[49m\u001b[43my_train\u001b[49m\u001b[43m)\u001b[49m\n",
      "File \u001b[0;32m~/.local/lib/python3.10/site-packages/sklearn/neighbors/_classification.py:196\u001b[0m, in \u001b[0;36mKNeighborsClassifier.fit\u001b[0;34m(self, X, y)\u001b[0m\n\u001b[1;32m    178\u001b[0m \u001b[38;5;28;01mdef\u001b[39;00m \u001b[38;5;21mfit\u001b[39m(\u001b[38;5;28mself\u001b[39m, X, y):\n\u001b[1;32m    179\u001b[0m     \u001b[38;5;124;03m\"\"\"Fit the k-nearest neighbors classifier from the training dataset.\u001b[39;00m\n\u001b[1;32m    180\u001b[0m \n\u001b[1;32m    181\u001b[0m \u001b[38;5;124;03m    Parameters\u001b[39;00m\n\u001b[0;32m   (...)\u001b[0m\n\u001b[1;32m    194\u001b[0m \u001b[38;5;124;03m        The fitted k-nearest neighbors classifier.\u001b[39;00m\n\u001b[1;32m    195\u001b[0m \u001b[38;5;124;03m    \"\"\"\u001b[39;00m\n\u001b[0;32m--> 196\u001b[0m     \u001b[38;5;28mself\u001b[39m\u001b[38;5;241m.\u001b[39mweights \u001b[38;5;241m=\u001b[39m \u001b[43m_check_weights\u001b[49m\u001b[43m(\u001b[49m\u001b[38;5;28;43mself\u001b[39;49m\u001b[38;5;241;43m.\u001b[39;49m\u001b[43mweights\u001b[49m\u001b[43m)\u001b[49m\n\u001b[1;32m    198\u001b[0m     \u001b[38;5;28;01mreturn\u001b[39;00m \u001b[38;5;28mself\u001b[39m\u001b[38;5;241m.\u001b[39m_fit(X, y)\n",
      "File \u001b[0;32m~/.local/lib/python3.10/site-packages/sklearn/neighbors/_base.py:82\u001b[0m, in \u001b[0;36m_check_weights\u001b[0;34m(weights)\u001b[0m\n\u001b[1;32m     80\u001b[0m \u001b[38;5;124;03m\"\"\"Check to make sure weights are valid\"\"\"\u001b[39;00m\n\u001b[1;32m     81\u001b[0m \u001b[38;5;28;01mif\u001b[39;00m weights \u001b[38;5;129;01mnot\u001b[39;00m \u001b[38;5;129;01min\u001b[39;00m (\u001b[38;5;28;01mNone\u001b[39;00m, \u001b[38;5;124m\"\u001b[39m\u001b[38;5;124muniform\u001b[39m\u001b[38;5;124m\"\u001b[39m, \u001b[38;5;124m\"\u001b[39m\u001b[38;5;124mdistance\u001b[39m\u001b[38;5;124m\"\u001b[39m) \u001b[38;5;129;01mand\u001b[39;00m \u001b[38;5;129;01mnot\u001b[39;00m callable(weights):\n\u001b[0;32m---> 82\u001b[0m     \u001b[38;5;28;01mraise\u001b[39;00m \u001b[38;5;167;01mValueError\u001b[39;00m(\n\u001b[1;32m     83\u001b[0m         \u001b[38;5;124m\"\u001b[39m\u001b[38;5;124mweights not recognized: should be \u001b[39m\u001b[38;5;124m'\u001b[39m\u001b[38;5;124muniform\u001b[39m\u001b[38;5;124m'\u001b[39m\u001b[38;5;124m, \u001b[39m\u001b[38;5;124m\"\u001b[39m\n\u001b[1;32m     84\u001b[0m         \u001b[38;5;124m\"\u001b[39m\u001b[38;5;124m'\u001b[39m\u001b[38;5;124mdistance\u001b[39m\u001b[38;5;124m'\u001b[39m\u001b[38;5;124m, or a callable function\u001b[39m\u001b[38;5;124m\"\u001b[39m\n\u001b[1;32m     85\u001b[0m     )\n\u001b[1;32m     87\u001b[0m \u001b[38;5;28;01mreturn\u001b[39;00m weights\n",
      "\u001b[0;31mValueError\u001b[0m: weights not recognized: should be 'uniform', 'distance', or a callable function"
     ]
    }
   ],
   "source": [
    "# Definindo a técnica a ser utilizada\n",
    "clf = KNeighborsClassifier(n_neighbors=5,weights='distance')\n",
    "\n",
    "# Treinando o modelo\n",
    "clf.fit(X_train, y_train)\n"
   ]
  },
  {
   "cell_type": "markdown",
   "metadata": {
    "id": "mJpnX6Ase_FW"
   },
   "source": [
    "A avaliação do modelo é realizada abaixo. \n",
    "\n",
    "- A função *predict()* retorna a classe para cada exemplo de teste.\n",
    "\n",
    "- A função *predict_proba()* retorna a probabilidade de cada classe para cada exemplo de teste.\n",
    "\n",
    "- A função *score()* retorna a taxa de acerto (acurácia) do classificador criado, observe que ela recebe como entrada a base de teste. A métrica taxa de acerto deve ser usada para bases balanceadas, no caso do problema apresentar diferença significativa na quantidade de exemplos por classe, deve-se usar *f1_score()* que é a média harmônica entre precisão e revocação.\n",
    "\n",
    "Considerando tp=true positivive, fp=false positive e fn=false negative.\n",
    "\n",
    "- A função *precision_score()*: calcula tp / (tp + fp)\n",
    "\n",
    "- A função *recall_score()* calcula: tp / (tp + fn)\n",
    "\n",
    "- A função *f1_score()* calcula a média harmônica entre precision e recall.\n",
    "\n",
    "- A função *confusion_matrix()* recebe como entrada os rótulos do teste (y_test) e a predição do modelo (y_pred). Ela retorna uma matriz CxC onde C é a quandidade de classes. No exemplo C=10, logo uma matriz 10x10 onde na diagonal temos os acertos e nas demais posições as confusões entre as classes do problema. Usada para avaliar classificador apenas e muito importante para analisarmos os erros do nosso modelo (ou hipótese de solução para o problema).  \n"
   ]
  },
  {
   "cell_type": "code",
   "execution_count": null,
   "metadata": {
    "colab": {
     "base_uri": "https://localhost:8080/"
    },
    "id": "_vN1HK85emfw",
    "outputId": "0070a875-2a33-45c2-d95a-dc4a52d320a5"
   },
   "outputs": [],
   "source": [
    "\n",
    "# Retorna a classe predita para cada exemplo de teste\n",
    "y_pred=clf.predict(X_test)\n",
    "\n",
    "# Retorna para cada instância de teste a probabilidade de cada classe\n",
    "predicted_proba=clf.predict_proba(X_test)\n",
    "\n",
    "# Calculando a acurácia (taxa de acerto) na base de teste (usando em bases balanceadas)\n",
    "score=clf.score(X_test, y_test)\n",
    "print(\"Accuracy = %.3f \" % (score*100))\n",
    "\n",
    "# Calculando a precisão na base de teste\n",
    "precision=precision_score(y_test, y_pred, average='weighted')\n",
    "print(\"Precision = %.3f \" % precision)\n",
    "\n",
    "# Calculando a revocação na base de teste\n",
    "recall=recall_score(y_test, y_pred, average='weighted')\n",
    "print(\"Recall = %.3f \" % recall)\n",
    "\n",
    "# Calculando a f1 na base de teste\n",
    "f1=f1_score(y_test, y_pred, average='weighted')\n",
    "print(\"F1 = %.3f \" % f1)\n",
    "\n",
    "# Exemplo mostrando o resultado previsto para a primeira instância de teste\n",
    "print(\"Primeira instância na base de teste foi considerada como da classe: %d\" % y_pred[0])\n",
    "\n",
    "# Exemplo abaixo mostrando para a primeira instância de teste a probabilidade de cada classe\n",
    "print(\"Probabilidade de cada classe para a primeira instância: \", predicted_proba[0])\n",
    "\n",
    "# Calculando a matriz de confusão\n",
    "print(\"Matriz de Confusão:\")\n",
    "matrix = confusion_matrix(y_test, y_pred)\n",
    "print(matrix)\n",
    "\n",
    "# salvando o modelo \n",
    "from joblib import dump, load\n",
    "with open(\"KNN.mod\", 'wb') as fo:  \n",
    "    dump(clf, fo)"
   ]
  },
  {
   "cell_type": "markdown",
   "metadata": {
    "id": "lMgRPNIMekfU"
   },
   "source": []
  }
 ],
 "metadata": {
  "colab": {
   "collapsed_sections": [],
   "name": "Holdout.ipynb",
   "provenance": []
  },
  "kernelspec": {
   "display_name": "Python 3 (ipykernel)",
   "language": "python",
   "name": "python3"
  },
  "language_info": {
   "codemirror_mode": {
    "name": "ipython",
    "version": 3
   },
   "file_extension": ".py",
   "mimetype": "text/x-python",
   "name": "python",
   "nbconvert_exporter": "python",
   "pygments_lexer": "ipython3",
   "version": "3.10.2"
  }
 },
 "nbformat": 4,
 "nbformat_minor": 1
}
