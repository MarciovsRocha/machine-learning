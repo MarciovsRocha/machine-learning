{
 "cells": [
  {
   "cell_type": "markdown",
   "id": "98ef1ed0",
   "metadata": {},
   "source": [
    "# Aula 1 - Introdução Machine Learning\n",
    "\n",
    "## Algoritmo K-NN\n",
    "\n",
    "### Import Section"
   ]
  },
  {
   "cell_type": "code",
   "execution_count": 1,
   "id": "3a49619d",
   "metadata": {},
   "outputs": [],
   "source": [
    "import scipy as sp\n",
    "import pandas as pd\n",
    "import numpy as np\n",
    "import sklearn as sk"
   ]
  },
  {
   "cell_type": "markdown",
   "id": "75bbcc68",
   "metadata": {},
   "source": [
    "### Importar a base "
   ]
  },
  {
   "cell_type": "code",
   "execution_count": 2,
   "id": "f3ba39be",
   "metadata": {},
   "outputs": [],
   "source": [
    "from sklearn.neighbors import KNeighborsClassifier\n",
    "from sklearn.metrics import confusion_matrix\n",
    "from sklearn.model_selection import train_test_split\n",
    "from sklearn.datasets import load_digits"
   ]
  },
  {
   "cell_type": "markdown",
   "id": "3c5b3b34",
   "metadata": {},
   "source": [
    "### Carregando a base de dados e mostrando formato"
   ]
  },
  {
   "cell_type": "code",
   "execution_count": 3,
   "id": "ec0a4e3b",
   "metadata": {},
   "outputs": [
    {
     "name": "stdout",
     "output_type": "stream",
     "text": [
      "(1797, 64)\n"
     ]
    }
   ],
   "source": [
    "X,y = load_digits(return_X_y=True)\n",
    "print(X.shape)"
   ]
  },
  {
   "cell_type": "markdown",
   "id": "9abfb2f8",
   "metadata": {},
   "source": [
    "### Treinamento e avaliação via *Holdout*"
   ]
  },
  {
   "cell_type": "code",
   "execution_count": 4,
   "id": "c9f03c9e",
   "metadata": {},
   "outputs": [],
   "source": [
    "# seccionando a base de testes\n",
    "X_train, X_test, y_train, y_test=train_test_split(X, y, test_size=.3, random_state=42, stratify=y)"
   ]
  },
  {
   "cell_type": "code",
   "execution_count": 5,
   "id": "4dd568f4",
   "metadata": {},
   "outputs": [],
   "source": [
    "# Declarando o modelo do classificador\n",
    "# clf == classificador\n",
    "clf=KNeighborsClassifier(n_neighbors=3)"
   ]
  },
  {
   "cell_type": "code",
   "execution_count": 6,
   "id": "21fcd286",
   "metadata": {},
   "outputs": [],
   "source": [
    "# treinamento do modelo\n",
    "clf=clf.fit(X_train, y_train)"
   ]
  },
  {
   "cell_type": "code",
   "execution_count": 7,
   "id": "77ccdecc",
   "metadata": {},
   "outputs": [],
   "source": [
    "# calculando precisão\n",
    "score=clf.score(X_test, y_test)"
   ]
  },
  {
   "cell_type": "code",
   "execution_count": 8,
   "id": "6911f2e2",
   "metadata": {},
   "outputs": [],
   "source": [
    "# predição do modelo\n",
    "predicted=clf.predict(X_test)\n",
    "# calculando a matriz de confusão\n",
    "matrix=confusion_matrix(y_test, predicted)"
   ]
  },
  {
   "cell_type": "code",
   "execution_count": 9,
   "id": "b0b4545b",
   "metadata": {},
   "outputs": [
    {
     "name": "stdout",
     "output_type": "stream",
     "text": [
      "----------------------------------------------------------------------------------------------------\n",
      "Predicted:\n",
      "[1 3 1 5 0 6 6 7 4 9 3 9 7 7 6 1 5 7 3 3 9 8 5 5 4 4 9 3 2 3 6 0 2 0 4 6 1\n",
      " 8 5 5 2 3 1 3 2 6 5 8 9 6 0 4 6 5 1 6 6 6 2 3 1 2 9 9 4 6 1 5 0 9 9 8 4 7\n",
      " 7 9 0 0 4 9 5 4 1 9 0 0 5 6 5 7 3 5 3 1 5 9 2 3 9 7 4 0 0 9 2 7 3 1 4 9 3\n",
      " 8 2 5 1 1 6 9 4 3 7 1 8 1 9 7 9 0 3 2 7 7 2 4 0 8 4 1 5 7 2 4 2 9 5 9 5 4\n",
      " 4 2 0 3 3 7 2 5 1 5 1 0 6 7 7 3 2 3 1 0 7 3 0 7 4 9 2 5 3 0 0 9 5 1 7 6 5\n",
      " 3 4 6 0 6 6 3 4 6 2 1 6 9 7 4 3 4 2 4 8 0 3 1 2 4 7 2 0 8 8 6 1 8 4 5 1 0\n",
      " 2 8 4 2 0 1 6 8 6 5 8 3 1 9 0 4 6 2 8 6 7 1 0 4 6 0 8 2 8 9 1 2 3 9 4 7 5\n",
      " 7 2 9 4 6 2 8 7 5 8 8 0 3 2 3 1 2 6 8 5 2 8 3 1 3 0 5 3 1 7 2 0 1 0 9 7 9\n",
      " 2 3 5 3 0 2 9 1 6 1 9 5 5 5 4 7 7 9 3 6 9 4 6 1 8 5 3 7 0 2 2 6 4 8 7 9 2\n",
      " 0 8 4 6 7 3 1 5 4 7 2 4 9 4 2 1 4 7 1 7 2 9 2 6 7 3 7 3 2 9 9 8 8 9 4 1 7\n",
      " 9 4 8 4 8 8 0 1 3 0 0 0 9 6 8 4 7 0 7 3 1 8 5 7 0 9 5 0 6 9 4 7 5 6 1 5 3\n",
      " 4 6 5 1 6 8 7 0 8 3 6 5 0 3 2 3 5 6 4 5 2 8 6 4 1 8 6 6 2 5 4 8 9 1 7 3 2\n",
      " 3 4 7 1 1 4 1 8 6 2 3 6 1 7 8 8 4 0 6 8 5 2 3 2 9 0 5 0 4 7 1 5 0 2 6 0 0\n",
      " 3 1 8 6 7 7 6 5 0 1 8 3 8 9 9 5 7 8 3 9 7 3 8 6 5 5 5 2 9 8 0 9 0 4 7 1 8\n",
      " 0 4 2 9 1 0 4 6 3 1 6 5 4 5 1 8 2 7 9 6 1 1]\n",
      "----------------------------------------------------------------------------------------------------\n",
      "Matriz de confusão:\n",
      "[[54  0  0  0  0  0  0  0  0  0]\n",
      " [ 0 55  0  0  0  0  0  0  0  0]\n",
      " [ 0  0 53  0  0  0  0  0  0  0]\n",
      " [ 0  0  0 55  0  0  0  0  0  0]\n",
      " [ 0  0  0  0 54  0  0  0  0  0]\n",
      " [ 0  0  0  0  0 54  0  0  0  1]\n",
      " [ 0  0  0  0  0  0 54  0  0  0]\n",
      " [ 0  0  0  0  0  0  0 54  0  0]\n",
      " [ 0  3  0  0  0  0  1  0 48  0]\n",
      " [ 0  0  0  0  1  0  0  0  1 52]]\n",
      "----------------------------------------------------------------------------------------------------\n",
      "Score: 0.987037037037037\n"
     ]
    }
   ],
   "source": [
    "print('-'*100)\n",
    "print(f'Predicted:\\n{predicted}')\n",
    "print('-'*100)\n",
    "print(f'Matriz de confusão:\\n{matrix}')\n",
    "print('-'*100)\n",
    "print(f'Score: {score}')"
   ]
  },
  {
   "cell_type": "code",
   "execution_count": null,
   "id": "b08f04b4",
   "metadata": {},
   "outputs": [],
   "source": []
  },
  {
   "cell_type": "code",
   "execution_count": null,
   "id": "82789e6b",
   "metadata": {},
   "outputs": [],
   "source": []
  }
 ],
 "metadata": {
  "kernelspec": {
   "display_name": "Python 3 (ipykernel)",
   "language": "python",
   "name": "python3"
  },
  "language_info": {
   "codemirror_mode": {
    "name": "ipython",
    "version": 3
   },
   "file_extension": ".py",
   "mimetype": "text/x-python",
   "name": "python",
   "nbconvert_exporter": "python",
   "pygments_lexer": "ipython3",
   "version": "3.10.2"
  }
 },
 "nbformat": 4,
 "nbformat_minor": 5
}
