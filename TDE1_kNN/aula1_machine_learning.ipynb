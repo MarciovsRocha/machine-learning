{
  "nbformat": 4,
  "nbformat_minor": 0,
  "metadata": {
    "colab": {
      "name": "aula1_machine_learning.ipynb",
      "provenance": [],
      "collapsed_sections": []
    },
    "kernelspec": {
      "name": "python3",
      "display_name": "Python 3"
    },
    "language_info": {
      "name": "python"
    }
  },
  "cells": [
    {
      "cell_type": "markdown",
      "source": [
        "# Notebook Aula 1 Machine Learning\n",
        "\n",
        "\n",
        "## Import Section"
      ],
      "metadata": {
        "id": "xbpB27WQ2hA1"
      }
    },
    {
      "cell_type": "code",
      "source": [
        "import numpy as np\n",
        "import pandas as pd\n",
        "import scipy as sp"
      ],
      "metadata": {
        "id": "xhqpcnV_3k1h"
      },
      "execution_count": 1,
      "outputs": []
    },
    {
      "cell_type": "code",
      "source": [
        "from sklearn.neighbors import KNeighborsClassifier\n",
        "from sklearn.metrics import confusion_matrix\n",
        "from sklearn.model_selection import train_test_split\n",
        "from sklearn.datasets import load_digits"
      ],
      "metadata": {
        "id": "A70tJa_m5Lvg"
      },
      "execution_count": 2,
      "outputs": []
    },
    {
      "cell_type": "code",
      "source": [
        "X,y = load_digits(return_X_y=True)\n",
        "print(X.shape)\n",
        "print(X[105],y[105])"
      ],
      "metadata": {
        "colab": {
          "base_uri": "https://localhost:8080/"
        },
        "id": "sB2JLgGC_vws",
        "outputId": "d650c98d-2456-4a31-f6ca-7b87bb616d6c"
      },
      "execution_count": 3,
      "outputs": [
        {
          "output_type": "stream",
          "name": "stdout",
          "text": [
            "(1797, 64)\n",
            "[ 0.  0.  9. 15.  5.  0.  0.  0.  0.  0. 13. 14. 13.  7.  0.  0.  0.  0.\n",
            "  6. 14. 10. 13.  1.  0.  0.  0.  0.  9. 12. 15.  5.  0.  0.  0.  0.  0.\n",
            "  0. 10. 10.  0.  0.  0.  0.  0.  0.  7. 14.  0.  0.  0.  3.  8.  9. 15.\n",
            " 15.  0.  0.  0.  5. 12. 12.  9.  1.  0.] 9\n"
          ]
        }
      ]
    },
    {
      "cell_type": "markdown",
      "source": [
        "### Treinamento e avaliação via Holdout"
      ],
      "metadata": {
        "id": "ryHDbn37AkTQ"
      }
    },
    {
      "cell_type": "code",
      "source": [
        "# seccionando a base de testes\n",
        "X_train, X_test, y_train, y_test=train_test_split(X, y, test_size=.3, random_state=42, stratify=y)"
      ],
      "metadata": {
        "id": "QxaQtaQoAhe9"
      },
      "execution_count": 4,
      "outputs": []
    },
    {
      "cell_type": "code",
      "source": [
        "# Declarando o modelo do classificador\n",
        "# clf == classificador\n",
        "clf=KNeighborsClassifier(n_neighbors=7)"
      ],
      "metadata": {
        "id": "mxfby0RRAhlD"
      },
      "execution_count": 5,
      "outputs": []
    },
    {
      "cell_type": "code",
      "source": [
        "# treinamento do modelo\n",
        "clf=clf.fit(X_train, y_train)"
      ],
      "metadata": {
        "id": "tdyFn-FGAhsS"
      },
      "execution_count": 6,
      "outputs": []
    },
    {
      "cell_type": "code",
      "source": [
        "# calculando precisão\n",
        "score=clf.score(X_test, y_test)"
      ],
      "metadata": {
        "id": "MiqZX_4NAhzJ"
      },
      "execution_count": 7,
      "outputs": []
    },
    {
      "cell_type": "code",
      "source": [
        "# predição do modelo\n",
        "predicted=clf.predict(X_test)\n",
        "# calculando a matriz de confusão\n",
        "matrix=confusion_matrix(y_test, predicted)"
      ],
      "metadata": {
        "id": "-kG5CbkFAh5l"
      },
      "execution_count": 8,
      "outputs": []
    },
    {
      "cell_type": "code",
      "source": [
        "print('-'*100)\n",
        "print(f'Predicted:\\n{predicted}')\n",
        "print('-'*100\n",
        "      )\n",
        "print(f'Matriz de confusão:\\n{matrix}')\n",
        "print('-'*100)\n",
        "print(f'Score: {score}')"
      ],
      "metadata": {
        "colab": {
          "base_uri": "https://localhost:8080/"
        },
        "id": "3at7S5h0AiAA",
        "outputId": "2145ff2a-167b-47c0-b02d-46cabf04de3d"
      },
      "execution_count": 9,
      "outputs": [
        {
          "output_type": "stream",
          "name": "stdout",
          "text": [
            "----------------------------------------------------------------------------------------------------\n",
            "Predicted:\n",
            "[1 3 1 5 0 6 6 7 4 9 3 9 7 7 6 1 5 7 3 3 9 8 5 5 4 4 9 3 2 3 6 0 2 0 4 6 1\n",
            " 8 5 5 2 3 1 3 2 6 5 8 9 6 0 4 6 5 1 6 6 6 2 3 1 2 9 9 4 6 1 5 0 9 9 8 4 7\n",
            " 7 9 0 0 4 9 5 4 1 9 0 0 5 6 5 7 3 5 3 1 5 9 2 3 9 7 4 0 0 9 2 7 3 1 4 9 3\n",
            " 8 2 5 1 1 6 9 4 3 7 1 8 1 9 7 9 0 3 2 7 7 2 4 0 8 4 1 5 7 2 4 2 9 5 9 5 4\n",
            " 4 2 0 3 3 7 2 5 1 5 1 0 6 7 7 3 2 3 1 0 7 3 0 7 4 9 2 5 3 0 0 9 5 1 7 6 5\n",
            " 3 4 6 0 6 6 3 4 6 2 1 1 9 7 4 3 4 2 4 8 0 3 1 2 4 7 2 0 8 8 6 1 8 4 5 1 0\n",
            " 2 8 4 2 0 1 6 8 3 5 8 3 1 9 0 4 6 2 9 6 7 1 0 4 6 0 8 2 8 9 1 2 3 9 4 7 5\n",
            " 7 2 9 4 6 2 8 7 5 8 8 0 3 2 3 1 2 6 8 5 2 8 3 1 3 0 5 3 1 7 2 0 1 0 9 7 9\n",
            " 2 3 5 3 0 2 9 1 6 1 9 5 5 5 4 7 7 9 3 6 9 4 6 1 8 5 3 7 0 2 2 6 4 8 7 9 2\n",
            " 0 8 4 6 7 3 1 5 4 7 2 4 9 4 2 1 4 7 1 7 2 9 2 6 7 3 7 3 2 9 9 8 8 9 4 1 7\n",
            " 9 4 8 4 8 8 4 1 3 0 0 0 9 6 8 4 7 0 7 3 1 8 5 7 0 9 5 0 6 9 4 7 5 6 1 5 3\n",
            " 4 6 5 1 6 8 7 0 8 3 6 5 0 3 2 3 5 6 4 5 2 8 6 4 1 8 6 6 2 5 7 8 9 1 7 3 2\n",
            " 3 4 7 1 1 4 1 8 6 2 3 6 1 7 8 8 4 0 6 8 5 2 3 2 9 0 5 0 4 7 1 5 0 2 6 0 0\n",
            " 3 1 8 6 7 7 6 5 0 1 8 3 8 9 9 5 7 8 3 9 7 3 8 6 5 5 5 2 9 8 0 9 0 4 7 1 7\n",
            " 0 4 2 9 1 0 4 6 3 1 6 5 4 5 8 8 2 7 9 6 1 1]\n",
            "----------------------------------------------------------------------------------------------------\n",
            "Matriz de confusão:\n",
            "[[53  0  0  0  1  0  0  0  0  0]\n",
            " [ 0 55  0  0  0  0  0  0  0  0]\n",
            " [ 0  0 53  0  0  0  0  0  0  0]\n",
            " [ 0  0  0 55  0  0  0  0  0  0]\n",
            " [ 0  0  0  0 53  0  0  1  0  0]\n",
            " [ 0  0  0  0  0 54  0  0  0  1]\n",
            " [ 0  1  0  0  0  0 53  0  0  0]\n",
            " [ 0  0  0  0  0  0  0 54  0  0]\n",
            " [ 0  2  0  1  0  0  0  1 48  0]\n",
            " [ 0  0  0  0  1  0  0  0  0 53]]\n",
            "----------------------------------------------------------------------------------------------------\n",
            "Score: 0.9833333333333333\n"
          ]
        }
      ]
    },
    {
      "cell_type": "code",
      "source": [
        "## MEU KNN DESENVOLVIDO\n",
        "#!/usr/bin/python\n",
        "\n",
        "# elements that will be predicted or\n",
        "# is in dataset\n",
        "class Element:\n",
        "    def __init__(self, label: str, pos: tuple):\n",
        "        self.label = label\n",
        "        self.pos = pos\n",
        "\n",
        "\n",
        "# dataset with all elements\n",
        "class Dataset:\n",
        "    ds: list\n",
        "    def __init__(self):\n",
        "        self.ds = []\n",
        "    def add_element(self, element: Element):\n",
        "        self.ds.append(element)\n",
        "\n",
        "\n",
        "# eleva o número ao quadrado\n",
        "sqr = lambda x: x**2\n",
        "\n",
        "# raiz quadrada de um número\n",
        "sqrt = lambda x: x**0.5\n",
        "\n",
        "\n",
        "# distancia euclidian\n",
        "# - recebe duas tuplas (X, Y, .., Z) e\n",
        "# - retorna a distância euclidiana entre elas\n",
        "def distancia_euclidiana(p: tuple, q: tuple):\n",
        "    # as duas tuplas devem ter o mesmo número de atributos para que seja calculada corretamente\n",
        "    if len(p) != len(q):\n",
        "        return 0\n",
        "    somatorio = 0\n",
        "    index = 0\n",
        "    while len(p) > index:\n",
        "        somatorio += (sqr(p[index]-q[index]) + sqr(p[index]-q[index]))\n",
        "        index += 1\n",
        "    return sqrt(somatorio)\n",
        "\n",
        "\n",
        "# retorna os k menores elementos da lista\n",
        "# a lista contem elementos (str, float)\n",
        "def menores_da_lista(k_menores: int, distancias: list):\n",
        "    distancias.sort(key=lambda x: x[1])\n",
        "    menores = distancias[:k_menores]\n",
        "    return menores\n",
        "\n",
        "\n",
        "# conta as instancias da label na lista\n",
        "def conta_instancias(label: str, lst: list):\n",
        "    contador = 0\n",
        "    for e in lst:\n",
        "        if label == lst[0]:\n",
        "            contador+=1\n",
        "    return contador\n",
        "\n",
        "\n",
        "# retorna a label de maior ocorrencia\n",
        "def maior_ocorrencia(lst: list):\n",
        "    labels = []\n",
        "    ocorrencias = []\n",
        "    for e in lst:\n",
        "        if e[0] not in labels:\n",
        "            labels.append(e[0])\n",
        "            ocorrencias.append(conta_instancias(e[0],lst))\n",
        "    return labels[ocorrencias.index(max(ocorrencias))]\n",
        "\n",
        "\n",
        "# prediz label de element de acordo com k vizinhos próximos do dataset\n",
        "# - k: numero de vizinhos\n",
        "# - dataset: dataset com instancias\n",
        "# - element: elemento que sera predito\n",
        "# - f_distance: funcao que calcula a distancia entre 2 pontos\n",
        "def k_nearest_neghbors(k: int, dataset: Dataset, element: Element, f_distance=distancia_euclidiana):\n",
        "    distancias = [(e.label, f_distance(element.pos, e.pos)) for e in dataset.ds]\n",
        "    return maior_ocorrencia(menores_da_lista(k, distancias))\n",
        "\n",
        "\n",
        "# predizendo elementos sobre uma base\n",
        "# retorna uma lista de labels preditas\n",
        "# - elements_to_predict: lista de atributos\n",
        "def predict_datasets(elements_to_predict, ds,k_neighbors: int = 3):\n",
        "  preditos = []\n",
        "  for e in elements_to_predict:\n",
        "    preditos.append(k_nearest_neghbors(k_neighbors, ds, Element('', tuple(e))))\n",
        "  return preditos\n",
        "\n"
      ],
      "metadata": {
        "id": "2FOHgEW1iuYI"
      },
      "execution_count": 10,
      "outputs": []
    },
    {
      "cell_type": "code",
      "source": [
        "# fitt dataset\n",
        "dataset = Dataset()\n",
        "index = 0\n",
        "while len(y_train) > index:\n",
        "  dataset.add_element(Element(str(y_train[index]), tuple(X_train[index])))\n",
        "  index+=1\n",
        "  \n",
        "predicted_2 = predict_datasets(X_test, dataset, 3)\n"
      ],
      "metadata": {
        "id": "2v9FmaFvmt2w"
      },
      "execution_count": 11,
      "outputs": []
    },
    {
      "cell_type": "code",
      "source": [
        "# calculando estatísticas do meu kNN\n",
        "predicted_2_int = [int(x) for x in predicted_2]\n",
        "matriz_confusao_2=confusion_matrix(y_test,predicted_2_int)\n",
        "i=0\n",
        "j=0\n",
        "acertos=0\n",
        "erros=0\n",
        "while len(matriz_confusao_2) > i:\n",
        "  while len(matriz_confusao_2[i]) > j:\n",
        "    if i == j:\n",
        "      acertos+=matriz_confusao_2[i][j]\n",
        "    else:\n",
        "      erros+=matriz_confusao_2[i][j]\n",
        "    j+=1\n",
        "  i+=1\n",
        "\n",
        "score_2=acertos/(acertos+erros)\n",
        "\n",
        "#print('-'*100)\n",
        "#print(f'Predicted:\\n{predicted_2}')\n",
        "#print('-'*100)\n",
        "#print(f'Matriz de confusão:\\n{matriz_confusao_2}')\n",
        "#print('-'*100)\n",
        "#print(f'Score: {score_2}')\n",
        "\n",
        "len(y_test)"
      ],
      "metadata": {
        "colab": {
          "base_uri": "https://localhost:8080/"
        },
        "id": "_8JobHGOoFAA",
        "outputId": "9c420573-0fa9-409e-a5b4-9a75d4ad018d"
      },
      "execution_count": 19,
      "outputs": [
        {
          "output_type": "execute_result",
          "data": {
            "text/plain": [
              "540"
            ]
          },
          "metadata": {},
          "execution_count": 19
        }
      ]
    },
    {
      "cell_type": "code",
      "source": [
        "print('-'*100)\n",
        "print(f'Predicted:\\n    SKLearn:\\n{predicted}\\n---\\n    Marcio:\\n{predicted_2_int}')\n",
        "print('-'*100)\n",
        "print(f'Matriz de confusão:\\n    SKLearn:\\n{matrix}\\n---\\n    Marcio:\\n{matriz_confusao_2}')\n",
        "print('-'*100)\n",
        "print(f'Score:\\n    SKLearn: {score}\\n    Marcio: {score_2}')"
      ],
      "metadata": {
        "colab": {
          "base_uri": "https://localhost:8080/"
        },
        "id": "LouY3Av3oFCB",
        "outputId": "74fbfd94-9795-4560-b430-524376e6405e"
      },
      "execution_count": 18,
      "outputs": [
        {
          "output_type": "stream",
          "name": "stdout",
          "text": [
            "----------------------------------------------------------------------------------------------------\n",
            "Predicted:\n",
            "    SKLearn:\n",
            "[1 3 1 5 0 6 6 7 4 9 3 9 7 7 6 1 5 7 3 3 9 8 5 5 4 4 9 3 2 3 6 0 2 0 4 6 1\n",
            " 8 5 5 2 3 1 3 2 6 5 8 9 6 0 4 6 5 1 6 6 6 2 3 1 2 9 9 4 6 1 5 0 9 9 8 4 7\n",
            " 7 9 0 0 4 9 5 4 1 9 0 0 5 6 5 7 3 5 3 1 5 9 2 3 9 7 4 0 0 9 2 7 3 1 4 9 3\n",
            " 8 2 5 1 1 6 9 4 3 7 1 8 1 9 7 9 0 3 2 7 7 2 4 0 8 4 1 5 7 2 4 2 9 5 9 5 4\n",
            " 4 2 0 3 3 7 2 5 1 5 1 0 6 7 7 3 2 3 1 0 7 3 0 7 4 9 2 5 3 0 0 9 5 1 7 6 5\n",
            " 3 4 6 0 6 6 3 4 6 2 1 1 9 7 4 3 4 2 4 8 0 3 1 2 4 7 2 0 8 8 6 1 8 4 5 1 0\n",
            " 2 8 4 2 0 1 6 8 3 5 8 3 1 9 0 4 6 2 9 6 7 1 0 4 6 0 8 2 8 9 1 2 3 9 4 7 5\n",
            " 7 2 9 4 6 2 8 7 5 8 8 0 3 2 3 1 2 6 8 5 2 8 3 1 3 0 5 3 1 7 2 0 1 0 9 7 9\n",
            " 2 3 5 3 0 2 9 1 6 1 9 5 5 5 4 7 7 9 3 6 9 4 6 1 8 5 3 7 0 2 2 6 4 8 7 9 2\n",
            " 0 8 4 6 7 3 1 5 4 7 2 4 9 4 2 1 4 7 1 7 2 9 2 6 7 3 7 3 2 9 9 8 8 9 4 1 7\n",
            " 9 4 8 4 8 8 4 1 3 0 0 0 9 6 8 4 7 0 7 3 1 8 5 7 0 9 5 0 6 9 4 7 5 6 1 5 3\n",
            " 4 6 5 1 6 8 7 0 8 3 6 5 0 3 2 3 5 6 4 5 2 8 6 4 1 8 6 6 2 5 7 8 9 1 7 3 2\n",
            " 3 4 7 1 1 4 1 8 6 2 3 6 1 7 8 8 4 0 6 8 5 2 3 2 9 0 5 0 4 7 1 5 0 2 6 0 0\n",
            " 3 1 8 6 7 7 6 5 0 1 8 3 8 9 9 5 7 8 3 9 7 3 8 6 5 5 5 2 9 8 0 9 0 4 7 1 7\n",
            " 0 4 2 9 1 0 4 6 3 1 6 5 4 5 8 8 2 7 9 6 1 1]\n",
            "---\n",
            "    Marcio:\n",
            "[1, 3, 1, 5, 0, 6, 6, 7, 4, 9, 3, 9, 7, 7, 6, 1, 5, 7, 3, 3, 9, 8, 5, 5, 4, 4, 9, 3, 2, 3, 6, 0, 2, 0, 4, 6, 1, 8, 5, 5, 2, 3, 1, 3, 2, 6, 5, 8, 9, 6, 0, 4, 6, 5, 1, 6, 6, 6, 2, 3, 1, 2, 9, 9, 4, 6, 1, 5, 0, 9, 9, 8, 4, 7, 7, 9, 0, 0, 4, 9, 5, 4, 1, 9, 0, 0, 5, 6, 5, 7, 3, 5, 3, 1, 5, 9, 2, 3, 9, 7, 4, 0, 0, 9, 2, 7, 3, 1, 4, 9, 3, 8, 2, 5, 1, 1, 6, 9, 4, 3, 7, 1, 8, 1, 9, 7, 9, 0, 3, 2, 7, 7, 2, 4, 0, 8, 4, 1, 5, 7, 2, 4, 2, 9, 5, 9, 5, 4, 4, 2, 0, 3, 3, 7, 2, 5, 1, 5, 1, 0, 6, 7, 7, 3, 2, 3, 1, 0, 7, 3, 0, 7, 4, 9, 2, 5, 3, 0, 0, 9, 5, 1, 7, 6, 5, 3, 4, 6, 0, 6, 6, 3, 4, 6, 2, 1, 6, 9, 7, 4, 3, 4, 2, 4, 8, 0, 3, 1, 2, 4, 7, 2, 0, 8, 8, 6, 1, 8, 4, 5, 1, 0, 2, 8, 4, 2, 0, 1, 6, 8, 3, 5, 8, 3, 1, 9, 0, 4, 6, 2, 8, 6, 7, 1, 0, 4, 6, 0, 8, 2, 8, 9, 1, 2, 3, 9, 4, 7, 5, 7, 2, 9, 4, 6, 2, 8, 7, 5, 8, 8, 0, 3, 2, 3, 1, 2, 6, 8, 5, 2, 8, 3, 1, 3, 0, 5, 3, 1, 7, 2, 0, 1, 0, 9, 7, 9, 2, 3, 5, 3, 0, 2, 9, 1, 6, 1, 9, 5, 5, 5, 4, 7, 7, 9, 3, 6, 9, 4, 6, 1, 8, 5, 3, 7, 0, 2, 2, 6, 4, 8, 7, 9, 2, 0, 8, 4, 6, 7, 3, 1, 5, 4, 7, 2, 4, 9, 4, 2, 1, 4, 7, 1, 7, 2, 9, 2, 6, 7, 3, 7, 3, 2, 9, 9, 8, 8, 9, 4, 1, 7, 9, 4, 8, 4, 8, 8, 0, 1, 3, 0, 0, 0, 9, 6, 8, 4, 7, 0, 7, 3, 1, 8, 5, 7, 0, 9, 5, 0, 6, 9, 4, 7, 5, 6, 1, 5, 3, 4, 6, 5, 1, 6, 8, 7, 0, 8, 3, 6, 5, 0, 3, 2, 3, 5, 6, 4, 5, 2, 8, 6, 4, 1, 8, 6, 6, 2, 5, 4, 8, 9, 1, 7, 3, 2, 3, 4, 7, 1, 1, 4, 1, 8, 6, 2, 3, 6, 1, 7, 8, 8, 4, 0, 6, 8, 5, 2, 3, 2, 9, 0, 5, 0, 4, 7, 1, 5, 0, 2, 6, 0, 0, 3, 1, 8, 6, 7, 7, 6, 5, 0, 1, 8, 3, 8, 9, 9, 5, 7, 8, 3, 9, 7, 3, 8, 6, 5, 5, 5, 2, 9, 8, 0, 9, 0, 4, 7, 1, 8, 0, 4, 2, 9, 1, 0, 4, 6, 3, 1, 6, 5, 4, 5, 1, 8, 2, 7, 9, 6, 1, 1]\n",
            "----------------------------------------------------------------------------------------------------\n",
            "Matriz de confusão:\n",
            "    SKLearn:\n",
            "[[53  0  0  0  1  0  0  0  0  0]\n",
            " [ 0 55  0  0  0  0  0  0  0  0]\n",
            " [ 0  0 53  0  0  0  0  0  0  0]\n",
            " [ 0  0  0 55  0  0  0  0  0  0]\n",
            " [ 0  0  0  0 53  0  0  1  0  0]\n",
            " [ 0  0  0  0  0 54  0  0  0  1]\n",
            " [ 0  1  0  0  0  0 53  0  0  0]\n",
            " [ 0  0  0  0  0  0  0 54  0  0]\n",
            " [ 0  2  0  1  0  0  0  1 48  0]\n",
            " [ 0  0  0  0  1  0  0  0  0 53]]\n",
            "---\n",
            "    Marcio:\n",
            "[[54  0  0  0  0  0  0  0  0  0]\n",
            " [ 0 55  0  0  0  0  0  0  0  0]\n",
            " [ 0  0 53  0  0  0  0  0  0  0]\n",
            " [ 0  0  0 55  0  0  0  0  0  0]\n",
            " [ 0  0  0  0 54  0  0  0  0  0]\n",
            " [ 0  0  0  0  0 54  0  0  0  1]\n",
            " [ 0  0  0  0  0  0 54  0  0  0]\n",
            " [ 0  0  0  0  0  0  0 54  0  0]\n",
            " [ 0  3  0  1  0  0  0  0 48  0]\n",
            " [ 0  0  0  0  1  0  0  0  1 52]]\n",
            "----------------------------------------------------------------------------------------------------\n",
            "Score:\n",
            "    SKLearn: 0.9833333333333333\n",
            "    Marcio: 1.0\n"
          ]
        }
      ]
    }
  ]
}